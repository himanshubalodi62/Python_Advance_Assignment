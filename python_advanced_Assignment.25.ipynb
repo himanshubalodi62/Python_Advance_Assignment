{
 "cells": [
  {
   "cell_type": "markdown",
   "id": "a60d84ee",
   "metadata": {},
   "source": [
    "#### Q1. What is the distinction between a numpy array and a pandas data frame? Is there a way to convert between the two if there is ?\n",
    "**Ans:** Numpy Ndarray provides a lot of convenient and optimized methods for performing several mathematical operations on \n",
    "vectors.\n",
    "\n",
    "\n",
    "Pandas Dataframe is an in-memory 2-dimensional tabular representation of data. In simpler words, it can be seen as a \n",
    "\n",
    "\n",
    "spreadsheet having rows and columns.\n",
    "\n",
    "\n",
    "Conversion : Dataframe=pandas.DataFrame(array)"
   ]
  },
  {
   "cell_type": "markdown",
   "id": "ca0bbd8d",
   "metadata": {},
   "source": [
    "#### Q2. Identify some of the plotting techniques that are used to produce a stock-market chart ?\n",
    "\n",
    "\n",
    "**Ans:** Bar chart, Line Chart are used for plotting."
   ]
  },
  {
   "cell_type": "markdown",
   "id": "7b0a65d3",
   "metadata": {},
   "source": [
    "#### Q3. Why is it essential to print a legend on a stock market chart ?\n",
    "\n",
    "\n",
    "**Ans:** Legend will help comparison between different stocks, so will be essential on a stock market chart"
   ]
  },
  {
   "cell_type": "markdown",
   "id": "8fed992f",
   "metadata": {},
   "source": [
    "#### Q4. What is the best way to limit the length of a pandas data frame to less than a year ?\n",
    "\n",
    "Ans: : We can use start and end parameters for that. In start we write the date from where we are starting and at the end we \n",
    "\n",
    "\n",
    "write the end date. SO within this span we can restric the duration.Also we can use the parameters like periods for how much \n",
    "\n",
    "\n",
    "\n",
    "\n",
    "times we need the duration and we can also use the frequency parameter."
   ]
  },
  {
   "cell_type": "markdown",
   "id": "56c84cec",
   "metadata": {},
   "source": [
    "#### Q5. What is the definition of a 180-day moving average ?\n",
    "\n",
    "\n",
    "\n",
    "**Ans:** : The 180-day moving average is represented as a line on charts and represents the average price over the past 180 \n",
    "\n",
    "days. The moving average can give traders a sense regarding whether the trend is up or down, while also identifying potential \n",
    "\n",
    "\n",
    "support or resistance areas."
   ]
  },
  {
   "cell_type": "code",
   "execution_count": null,
   "id": "c220a9be",
   "metadata": {},
   "outputs": [],
   "source": []
  },
  {
   "cell_type": "code",
   "execution_count": null,
   "id": "2272c7b3",
   "metadata": {},
   "outputs": [],
   "source": []
  },
  {
   "cell_type": "code",
   "execution_count": null,
   "id": "87dcc1e0",
   "metadata": {},
   "outputs": [],
   "source": []
  },
  {
   "cell_type": "code",
   "execution_count": null,
   "id": "2156eefc",
   "metadata": {},
   "outputs": [],
   "source": []
  },
  {
   "cell_type": "code",
   "execution_count": null,
   "id": "c7535926",
   "metadata": {},
   "outputs": [],
   "source": []
  }
 ],
 "metadata": {
  "kernelspec": {
   "display_name": "Python 3 (ipykernel)",
   "language": "python",
   "name": "python3"
  },
  "language_info": {
   "codemirror_mode": {
    "name": "ipython",
    "version": 3
   },
   "file_extension": ".py",
   "mimetype": "text/x-python",
   "name": "python",
   "nbconvert_exporter": "python",
   "pygments_lexer": "ipython3",
   "version": "3.10.9"
  }
 },
 "nbformat": 4,
 "nbformat_minor": 5
}
