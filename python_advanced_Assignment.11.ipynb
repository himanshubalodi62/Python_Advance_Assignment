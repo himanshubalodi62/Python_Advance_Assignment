{
 "cells": [
  {
   "cell_type": "markdown",
   "id": "07ceec25",
   "metadata": {},
   "source": [
    "#### Q1. What is the concept of a metaclass?\n",
    "\n",
    "\n",
    "**Ans:** Metaclass in Python is a class of a class that defines how a class behaves. A class is itself a instance of Metaclass, \n",
    "\n",
    "\n",
    "and any Instance of Class in Python is an Instance of type metaclass. E.g. Type of of int, str, float, list, tuple and many \n",
    "\n",
    "\n",
    "more is of metaclass type."
   ]
  },
  {
   "cell_type": "markdown",
   "id": "97ec928c",
   "metadata": {},
   "source": [
    "#### Q2. What is the best way to declare a class's metaclass?\n",
    "\n",
    "\n",
    "**Ans:** A way to declare a class’ metaclass is by using metaclass keyword in class definition."
   ]
  },
  {
   "cell_type": "code",
   "execution_count": 1,
   "id": "8b0c2af3",
   "metadata": {},
   "outputs": [
    {
     "name": "stdout",
     "output_type": "stream",
     "text": [
      "<class 'type'>\n",
      "<class '__main__.meta'>\n"
     ]
    }
   ],
   "source": [
    "class meta(type):\n",
    "    pass\n",
    "class class_meta(metaclass=meta):\n",
    "    pass\n",
    "print(type(meta))\n",
    "print(type(class_meta))"
   ]
  },
  {
   "cell_type": "markdown",
   "id": "cc045549",
   "metadata": {},
   "source": [
    "#### Q3. How do class decorators overlap with metaclasses for handling classes ?\n",
    "\n",
    "\n",
    "**Ans:** Anything you can do with a class decorator, you can of course do with a custom metaclasses (just apply the \n",
    "\n",
    "functionality of the \"decorator function\", i.e., the one that takes a class object and modifies it, in the course of the \n",
    "\n",
    "\n",
    "metaclass's __new__ or __init__ that make the class object!)."
   ]
  },
  {
   "cell_type": "markdown",
   "id": "daeb8e8e",
   "metadata": {},
   "source": [
    "#### Q4. How do class decorators overlap with metaclasses for handling instances?\n",
    "\n",
    "\n",
    "**Ans:** Anything you can do with a class decorator, you can of course do with a custom metaclass (just apply the functionality \n",
    "\n",
    "\n",
    "of the \"decorator function\", i.e., the one that takes a class object and modifies it, in the course of the metaclass's __new__ \n",
    "\n",
    "\n",
    "\n",
    "or __init__ that make the class object!)."
   ]
  },
  {
   "cell_type": "code",
   "execution_count": null,
   "id": "a04fc42c",
   "metadata": {},
   "outputs": [],
   "source": []
  },
  {
   "cell_type": "code",
   "execution_count": null,
   "id": "7cb9e5ca",
   "metadata": {},
   "outputs": [],
   "source": []
  },
  {
   "cell_type": "code",
   "execution_count": null,
   "id": "a856bc4e",
   "metadata": {},
   "outputs": [],
   "source": []
  },
  {
   "cell_type": "code",
   "execution_count": null,
   "id": "d8f09875",
   "metadata": {},
   "outputs": [],
   "source": []
  },
  {
   "cell_type": "code",
   "execution_count": null,
   "id": "79efa663",
   "metadata": {},
   "outputs": [],
   "source": []
  }
 ],
 "metadata": {
  "kernelspec": {
   "display_name": "Python 3 (ipykernel)",
   "language": "python",
   "name": "python3"
  },
  "language_info": {
   "codemirror_mode": {
    "name": "ipython",
    "version": 3
   },
   "file_extension": ".py",
   "mimetype": "text/x-python",
   "name": "python",
   "nbconvert_exporter": "python",
   "pygments_lexer": "ipython3",
   "version": "3.10.9"
  }
 },
 "nbformat": 4,
 "nbformat_minor": 5
}
