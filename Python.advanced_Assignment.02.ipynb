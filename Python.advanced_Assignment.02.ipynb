{
 "cells": [
  {
   "cell_type": "markdown",
   "id": "622ff78a",
   "metadata": {},
   "source": [
    "#### Q1. What is the relationship between classes and modules?\n",
    "\n",
    "\n",
    "#### Ans:\n",
    "\n",
    "\n",
    "i. Class is the collection of methods, constructor and variables, and to define a class we use class keyword.\n",
    "\n",
    "\n",
    "ii. Module is a collection of classes, functions, and attributes, which is like a package.\n",
    "\n",
    "\n",
    "iii. We can modify the attributes of the class by using inheritance. But we can simply use the codes written in a module by importing it.\n",
    "\n",
    "\n",
    "A **Python** class is like an outline/blueprint/mold for creating a new object. An object is anything that you wish to manipulate or change while working through the code. Every time a class object is instantiated, which is when we declare a variable, a new object is initiated from scratch\n",
    "\n",
    "\n",
    "Whereas in Python, **Modules** are simply files with the **. py** extension containing Python code that can be imported inside another Python Program. In simple terms, we can consider a module to be the same as a code library or a file that contains a set of functions/Classes that you want to include in your application.\n",
    "\n"
   ]
  },
  {
   "cell_type": "markdown",
   "id": "a07fc56f",
   "metadata": {},
   "source": [
    "##### Q2. How do you make instances and classes?\n",
    "\n",
    "#### Ans\n",
    "\n",
    "i. To make classes we use class keyword.\n",
    "\n",
    "\n",
    "ii. To make instance of a class you can define init() method inside class which is not mandatory. Then create object by passing the arguments it’s constructor takes then refer it to an instance or variable."
   ]
  },
  {
   "cell_type": "code",
   "execution_count": 1,
   "id": "39b3b3ae",
   "metadata": {},
   "outputs": [
    {
     "name": "stdout",
     "output_type": "stream",
     "text": [
      "himanshu\n"
     ]
    }
   ],
   "source": [
    "# eg.........\n",
    "\n",
    "class Instance:\n",
    "    def __init__(self , name):\n",
    "        self.name = name \n",
    "        \n",
    "i = Instance('himanshu')\n",
    "print(i.name)"
   ]
  },
  {
   "cell_type": "code",
   "execution_count": 2,
   "id": "ab12a2ba",
   "metadata": {},
   "outputs": [
    {
     "name": "stdout",
     "output_type": "stream",
     "text": [
      "Instance print\n"
     ]
    }
   ],
   "source": [
    "class Instance:\n",
    "    def print_name(self):\n",
    "        print('Instance print')\n",
    "        \n",
    "i = Instance()\n",
    "i.print_name()"
   ]
  },
  {
   "cell_type": "markdown",
   "id": "3ad9def8",
   "metadata": {},
   "source": [
    "#### Q3. Where and how should be class attributes created?\n",
    "\n",
    "#### Ans\n",
    "\n",
    "Class attributes belong to class itself, they will be shared by all the instances. They are defined at the class body parts."
   ]
  },
  {
   "cell_type": "markdown",
   "id": "a1998e01",
   "metadata": {},
   "source": [
    "Class attributes or Class level Attributes belong to the class itself. these attributes will be shared by all the instances of \n",
    "\n",
    "\n",
    "the class. Hence these attributes are usually created/defined in the top of class definiation outside all methods."
   ]
  },
  {
   "cell_type": "markdown",
   "id": "c29fde58",
   "metadata": {},
   "source": [
    "#### Q4. Where and how are instance attributes created?\n",
    "\n",
    "\n",
    "**Ans:** Instances attributes are passed to the class when an object of the class is created. Unlike class attributes, instance \n",
    "\n",
    "attributes are not shared by all objects of the classs. instead each object maintains its own copy of instance attributes at \n",
    "\n",
    "object level. whereas incase of class attributes all instances of class refer to a single copy. Usually instance attributes are \n",
    "\n",
    "defined within the **__init__** method of class"
   ]
  },
  {
   "cell_type": "markdown",
   "id": "9a53775c",
   "metadata": {},
   "source": [
    "**Example:** In the below sample code we are creating a class Car with instance varaibles color, price, engine, which will be \n",
    "\n",
    "provided when an instance of class Car is created."
   ]
  },
  {
   "cell_type": "code",
   "execution_count": 3,
   "id": "be7705b8",
   "metadata": {},
   "outputs": [],
   "source": [
    "class Car:\n",
    "    def __init__(self,color,price,engine):\n",
    "        self.color = color\n",
    "        self.price = price\n",
    "        self.engine = engine\n",
    "nexon_ev = Car('Indigo Blue', 1400000, 'electric')\n",
    "safari = Car('Pearl White',2100000, 'petrol')"
   ]
  },
  {
   "cell_type": "markdown",
   "id": "aa9804a7",
   "metadata": {},
   "source": [
    "#### Q5. What does the term \"self\" in a Python class mean?\n",
    "\n",
    "\n",
    "Ans: self represents the instance of the class (it represents the object itself). By using the “self” keyword we can access the attributes and methods of the class with in the class in python. It binds the attributes with the given arguments."
   ]
  },
  {
   "cell_type": "code",
   "execution_count": 4,
   "id": "9509e800",
   "metadata": {},
   "outputs": [
    {
     "name": "stdout",
     "output_type": "stream",
     "text": [
      "{'color': 'Indigo Blue', 'price': 1400000, 'engine': 'electric'}\n",
      "{'color': 'Pearl White', 'price': 2100000, 'engine': 'petrol'}\n"
     ]
    }
   ],
   "source": [
    "class Car:\n",
    "    def __init__(self,color,price,engine):\n",
    "        self.color = color # All this are instance attributes\n",
    "        self.price = price\n",
    "        self.engine = engine\n",
    "\n",
    "nexon_ev = Car('Indigo Blue', 1400000, 'electric')\n",
    "safari = Car('Pearl White',2100000, 'petrol')\n",
    "\n",
    "print(nexon_ev.__dict__)\n",
    "print(safari.__dict__)"
   ]
  },
  {
   "cell_type": "markdown",
   "id": "c5c40c9c",
   "metadata": {},
   "source": [
    "#### Q6. How does a Python class handle operator overloading?\n",
    "\n",
    "\n",
    "Ans: Python Classes handle operator overloading by using special methods called Magic methods. these special methods usually begin and end with __ (double underscore)\n",
    "\n",
    "    \n",
    "Example: Magic methods for basic arithmetic operators are:\n",
    "\n",
    "1.+ -> __add__()\n",
    "\n",
    "2.- -> __sub__()\n",
    "\n",
    "3.* -> __mul__()\n",
    "\n",
    "\n",
    "4./ -> __div__()"
   ]
  },
  {
   "cell_type": "code",
   "execution_count": 7,
   "id": "2d170e2a",
   "metadata": {},
   "outputs": [
    {
     "name": "stdout",
     "output_type": "stream",
     "text": [
      "The total number of pages in 2 books is 300\n"
     ]
    }
   ],
   "source": [
    "class Book:\n",
    "    def __init__(self,pages):\n",
    "        self.pages = pages\n",
    "    def __add__(self,other):\n",
    "        return self.pages + other.pages\n",
    "b1 = Book(100)\n",
    "b2 = Book(200)\n",
    "print(f'The total number of pages in 2 books is {b1+b2}')"
   ]
  },
  {
   "cell_type": "markdown",
   "id": "aba3d862",
   "metadata": {},
   "source": [
    "#### Q7. When do you consider allowing operator overloading of your classes?\n",
    "\n",
    "Ans: When we want to have different meaning for the same operator accroding to the context we use operator overloading."
   ]
  },
  {
   "cell_type": "markdown",
   "id": "03df1d9d",
   "metadata": {},
   "source": [
    "Allowing operator overloading means using operators (+,-,*,<,>,&,|,^) for different classes to perform different operations. We \n",
    "\n",
    "\n",
    "will allow operator overloading for the classes when we are dealing with same type classes (int-int, str-str, list-list) to \n",
    "\n",
    "\n",
    "\n",
    "perform either addition or concatenation operation."
   ]
  },
  {
   "cell_type": "markdown",
   "id": "03b5efe3",
   "metadata": {},
   "source": [
    "#### Q8. What is the most popular form of operator overloading?\n",
    "\n",
    "\n",
    "Ans: The most popular form of operator overloading in python is by special methods called Magic methods. Which usually beign and end with double underscore **__<method name>__.**"
   ]
  },
  {
   "cell_type": "markdown",
   "id": "11baef67",
   "metadata": {},
   "source": [
    "#### Q9. What are the two most important concepts to grasp in order to comprehend Python OOP code?\n",
    "\n",
    "#### Ans:\n",
    "\n",
    "\n",
    "The most important concepts to grasp Python OOP code are\n",
    "\n",
    "\n",
    "i. Inheritance\n",
    "\n",
    "\n",
    "ii. Polymorphism\n",
    "\n",
    "\n",
    "Inheritance :\n",
    "\n",
    "Acquiring the properties of one class to another class is the concept of inheritance. It is used for code reusability and \n",
    "\n",
    "extendability."
   ]
  },
  {
   "cell_type": "code",
   "execution_count": 9,
   "id": "89afb66d",
   "metadata": {},
   "outputs": [
    {
     "name": "stdout",
     "output_type": "stream",
     "text": [
      "Employee Number : 171\n",
      "Employee Name : himasnhu\n",
      "Employee Salary : 10000000\n"
     ]
    }
   ],
   "source": [
    "class Employee:\n",
    "    def __init__(self,eno,ename , esal):\n",
    "        self.eno = eno\n",
    "        self.ename = ename \n",
    "        self.esal = esal\n",
    "        \n",
    "    def display(self):\n",
    "        \n",
    "        print('Employee Number :',self.eno)\n",
    "        print('Employee Name :', self.ename)\n",
    "        print('Employee Salary :', self.esal)\n",
    "        \n",
    "e = Employee(171,'himasnhu', 10000000)\n",
    "\n",
    "e.display()\n",
    "        "
   ]
  },
  {
   "cell_type": "code",
   "execution_count": null,
   "id": "c3a374dc",
   "metadata": {},
   "outputs": [],
   "source": []
  }
 ],
 "metadata": {
  "kernelspec": {
   "display_name": "Python 3 (ipykernel)",
   "language": "python",
   "name": "python3"
  },
  "language_info": {
   "codemirror_mode": {
    "name": "ipython",
    "version": 3
   },
   "file_extension": ".py",
   "mimetype": "text/x-python",
   "name": "python",
   "nbconvert_exporter": "python",
   "pygments_lexer": "ipython3",
   "version": "3.10.9"
  }
 },
 "nbformat": 4,
 "nbformat_minor": 5
}
