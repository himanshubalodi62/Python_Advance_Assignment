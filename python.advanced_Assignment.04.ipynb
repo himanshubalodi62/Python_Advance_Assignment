{
 "cells": [
  {
   "cell_type": "markdown",
   "id": "d3bdaa0d",
   "metadata": {},
   "source": [
    "#### Q1. Which two operator overloading methods can you use in your classes to support iteration?"
   ]
  },
  {
   "cell_type": "markdown",
   "id": "66c1e8bf",
   "metadata": {},
   "source": [
    "#### Ans:\n",
    "\n",
    "__iter__ and __next__ are the operator overloading methods in python that support iteration and are collectively called iterator protocol.\n",
    "\n",
    "__iter__ returns the iterator object and is called at the start of loop in our respective class.\n",
    "__next__ is called at each loop increment, it returns the incremented value. Also Stopiteration is raised when there is no value to return."
   ]
  },
  {
   "cell_type": "code",
   "execution_count": 2,
   "id": "750c6966",
   "metadata": {},
   "outputs": [
    {
     "name": "stdout",
     "output_type": "stream",
     "text": [
      "5 6 7 8 9 10 11 12 13 14 15 "
     ]
    }
   ],
   "source": [
    "class Counter:\n",
    "    def __init__(self,low,high):\n",
    "        self.current = low\n",
    "        self.high = high\n",
    "        \n",
    "    def __iter__(self):\n",
    "        return self\n",
    "    \n",
    "    def __next__(self):\n",
    "        if self.current > self.high:\n",
    "            raise StopIteration\n",
    "            \n",
    "        else:\n",
    "            self.current += 1\n",
    "            return self.current -1\n",
    "        \n",
    "for ele in Counter(5,15):\n",
    "    print(ele , end=\" \")"
   ]
  },
  {
   "cell_type": "markdown",
   "id": "d18edf3c",
   "metadata": {},
   "source": [
    "#### Q2. In what contexts do the two operator overloading methods manage printing?\n",
    "\n",
    "##### Ans:\n",
    "\n",
    "__str__ and __repr__ are two operator overloading methods that manage printing.\n",
    "\n",
    "In Short, the difference between both these operators is the goal of __repr__ is to be unambiguous and __str__ is to be readable.\n",
    "\n",
    "Whenever we are printing any object reference internally __str__ method will be called by default.\n",
    "\n",
    "The main purpose of __str__ is for readability. it prints the informal string representation of an object, one that is useful \n",
    "\n",
    "\n",
    "for printing the object. it may not be possible to convert result string to original object.\n",
    "\n",
    "__repr__ is used to print official string representation of an object, so it includes all information and development."
   ]
  },
  {
   "cell_type": "code",
   "execution_count": 3,
   "id": "267c9a56",
   "metadata": {},
   "outputs": [
    {
     "name": "stdout",
     "output_type": "stream",
     "text": [
      "<__main__.Student object at 0x000001C7EEE4EE30>\n",
      "Student Name: Mano and Roll No: 1\n",
      "2023-05-10 12:40:43.734461\n",
      "Unable to convert back to original object\n",
      "datetime.datetime(2023, 5, 10, 12, 40, 43, 734461)\n",
      "2023-05-10 12:40:43.734461\n"
     ]
    }
   ],
   "source": [
    "class Student:\n",
    "    def __init__(self,name,roll_no):\n",
    "        self.name = name\n",
    "        self.roll_no = roll_no\n",
    "        \n",
    "s1 = Student(\"Mano\",1)\n",
    "print(str(s1))\n",
    "\n",
    "class Student:\n",
    "    def __init__(self,name,roll_no):\n",
    "        self.name = name\n",
    "        self.roll_no = roll_no\n",
    "    def __str__(self):\n",
    "        return f'Student Name: {self.name} and Roll No: {self.roll_no}'\n",
    "    \n",
    "s1 = Student(\"Mano\",1)\n",
    "print(str(s1))\n",
    "\n",
    "import datetime\n",
    "today = datetime.datetime.now()\n",
    "\n",
    "s = str(today) # converting datetime object to presentable str\n",
    "print(s)\n",
    "try: d = eval(s) # converting str back to datetime object\n",
    "except: print(\"Unable to convert back to original object\")\n",
    "    \n",
    "u = repr(today) # converting datetime object to str\n",
    "print(u)\n",
    "e = eval(u) # converting str back to datetime object\n",
    "print(e)"
   ]
  },
  {
   "cell_type": "markdown",
   "id": "6cb4d3ac",
   "metadata": {},
   "source": [
    "#### Q3. In a class, how do you intercept slice operations?\n",
    "\n",
    "#### Ans:\n",
    "\n",
    "In a class use of slice() in __getitem__ method is used for intercept slice operation. This slice method is provided with start integer number, stop integer number and step integer number.\n",
    "\n",
    "Example: __getitem__(slice(start,stop,step))"
   ]
  },
  {
   "cell_type": "code",
   "execution_count": 4,
   "id": "4575a304",
   "metadata": {},
   "outputs": [
    {
     "name": "stdout",
     "output_type": "stream",
     "text": [
      "ab\n"
     ]
    }
   ],
   "source": [
    "sliced ='abcde'.__getitem__(slice(0, 2, 1)) \n",
    "print(sliced)"
   ]
  },
  {
   "cell_type": "code",
   "execution_count": 5,
   "id": "c0a7d1d4",
   "metadata": {},
   "outputs": [
    {
     "name": "stdout",
     "output_type": "stream",
     "text": [
      "(1, 2, 3)\n"
     ]
    },
    {
     "data": {
      "text/plain": [
       "(1, 2, 3)"
      ]
     },
     "execution_count": 5,
     "metadata": {},
     "output_type": "execute_result"
    }
   ],
   "source": [
    "class Demo:\n",
    "    def __getitem__(self, key):\n",
    "          \n",
    "        # print a[1], a[1, 2], \n",
    "        # a[1, 2, 3]\n",
    "        print(key)\n",
    "          \n",
    "        return key\n",
    "a = Demo()\n",
    "\n",
    "a[1, 2, 3]"
   ]
  },
  {
   "cell_type": "markdown",
   "id": "e26eba8b",
   "metadata": {},
   "source": [
    "#### Q4. In a class, how do you capture in-place addition?\n",
    "\n",
    "\n",
    "Ans: a+b is normal addition. Whereas a+=b is inplace addition operation. In this in-place addition a itself will store the \n",
    "\n",
    "\n",
    "value of addition. In a class __iadd__ method is used for this in-place operation"
   ]
  },
  {
   "cell_type": "code",
   "execution_count": 7,
   "id": "0692b610",
   "metadata": {},
   "outputs": [
    {
     "name": "stdout",
     "output_type": "stream",
     "text": [
      "300\n"
     ]
    }
   ],
   "source": [
    "class Book:\n",
    "    def __init__(self,pages):\n",
    "        self.pages = pages\n",
    "    def __iadd__(self,other):\n",
    "        self.pages += other.pages\n",
    "        return self.pages\n",
    "        \n",
    "b1 = Book(100)\n",
    "b2 = Book(200)\n",
    "b1+=b2\n",
    "print(b1)"
   ]
  },
  {
   "cell_type": "markdown",
   "id": "83998bc2",
   "metadata": {},
   "source": [
    "##### Q5. When is it appropriate to use operator overloading?\n",
    "\n",
    "\n",
    "Ans: Operator overloading is used when we want to use an operator other than its normal operation to have different meaning \n",
    "\n",
    "\n",
    "\n",
    "according to the context required in user defined function."
   ]
  },
  {
   "cell_type": "code",
   "execution_count": 8,
   "id": "e420a775",
   "metadata": {},
   "outputs": [
    {
     "name": "stdout",
     "output_type": "stream",
     "text": [
      "Total Number of Pages -> 300\n"
     ]
    }
   ],
   "source": [
    "class Book:\n",
    "    def __init__(self,pages):\n",
    "        self.pages = pages\n",
    "    def __add__(self,other):\n",
    "        return self.pages+other.pages\n",
    "b1 = Book(100)\n",
    "b2 = Book(200)\n",
    "print(f'Total Number of Pages -> {b1+b2}')"
   ]
  },
  {
   "cell_type": "code",
   "execution_count": null,
   "id": "0b56f4f1",
   "metadata": {},
   "outputs": [],
   "source": []
  }
 ],
 "metadata": {
  "kernelspec": {
   "display_name": "Python 3 (ipykernel)",
   "language": "python",
   "name": "python3"
  },
  "language_info": {
   "codemirror_mode": {
    "name": "ipython",
    "version": 3
   },
   "file_extension": ".py",
   "mimetype": "text/x-python",
   "name": "python",
   "nbconvert_exporter": "python",
   "pygments_lexer": "ipython3",
   "version": "3.10.9"
  }
 },
 "nbformat": 4,
 "nbformat_minor": 5
}
