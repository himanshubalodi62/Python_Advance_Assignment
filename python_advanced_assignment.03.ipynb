{
 "cells": [
  {
   "cell_type": "markdown",
   "id": "7bf7bdc5",
   "metadata": {},
   "source": [
    "#### 1. What is the concept of an abstract superclass?\n",
    "\n",
    "\n",
    "Ans: An abstract class/superclass can be considered as a blueprint for other classes. It allows you to create a set of methods that must be created within any child classes built from the abstract class. A class which contains one or more abstract methods is called an abstract class.\n",
    "\n",
    "Whereas an abstract method is a method that has a declaration but does not have an implementation"
   ]
  },
  {
   "cell_type": "code",
   "execution_count": 2,
   "id": "4e47c5af",
   "metadata": {},
   "outputs": [],
   "source": [
    "from abc import ABC, abstractmethod\n",
    "class Polygon(ABC): # Abstract Class\n",
    "    @abstractmethod\n",
    "    def noofsides(self): # Abstract Method\n",
    "        pass\n",
    "class Triangle(Polygon):\n",
    "    def noofsides(self):  # overriding abstract method in child class Triangle\n",
    "        print(\"I have 3 sides\")\n",
    "class Pentagon(Polygon):\n",
    "    def noofsides(self): # overriding abstract method in child class Pentagon\n",
    "        print(\"I have 5 sides\")"
   ]
  },
  {
   "cell_type": "markdown",
   "id": "7410dcfd",
   "metadata": {},
   "source": [
    "i. Abstract means partially implemented.\n",
    "\n",
    "ii. A class is called as abstract class if it contains at-least one abstract method. An abstract method is a method which is only declared but not implemented. It’s next level child class is responsible for implementation.\n",
    "\n",
    "iii. Abstract class may not be instantiated."
   ]
  },
  {
   "cell_type": "code",
   "execution_count": 1,
   "id": "f91a317f",
   "metadata": {},
   "outputs": [],
   "source": [
    "class ABC:\n",
    "    def m(self):\n",
    "        pass\n",
    "    \n",
    "class xyz(ABC):\n",
    "    def m(self,a,b):\n",
    "        return a+b"
   ]
  },
  {
   "cell_type": "markdown",
   "id": "4d9c5084",
   "metadata": {},
   "source": [
    "#### 2. What happens when a class statement's top level contains a basic assignment statement?"
   ]
  },
  {
   "cell_type": "markdown",
   "id": "3f134fb0",
   "metadata": {},
   "source": [
    "**Ans:** When a Class statement's top level contains a basic assignment statement, its usually treated as a class attribute or \n",
    "\n",
    "class level variable.\n",
    "\n",
    "where as assignment statements inside methods are treated as instance attributes or local attributes.\n",
    "\n",
    "When an instance of a class is created a single copy of class attributes is maintained and shared to all instances of class. \n",
    "\n",
    "where as each instance object maintains its own copy of instance variables."
   ]
  },
  {
   "cell_type": "code",
   "execution_count": 4,
   "id": "a187170a",
   "metadata": {},
   "outputs": [],
   "source": [
    "class Person:\n",
    "    species = 'Homesapiens' # class attribute\n",
    "    def __init__(self,name,gender):\n",
    "        self.name = name # instance attributes\n",
    "        self.gender = gender"
   ]
  },
  {
   "cell_type": "markdown",
   "id": "0a195d84",
   "metadata": {},
   "source": [
    "#### 3. Why does a class need to manually call a superclass's init method?\n",
    "\n",
    "**Ans:** if a child class has __init__ method, then it will not inherit the __init__ method of the parent class. in other words \n",
    "\n",
    "the __init__ method of the child class overrides the __init__ method of the parent class. so we have to manually call a parent \n",
    "\n",
    "superclass's __init__ using super() method"
   ]
  },
  {
   "cell_type": "code",
   "execution_count": 5,
   "id": "2d7fc4e5",
   "metadata": {},
   "outputs": [
    {
     "name": "stdout",
     "output_type": "stream",
     "text": [
      "{'name': 'sukumar', 'age': 28, 'salary': 200000}\n"
     ]
    }
   ],
   "source": [
    "class Person:\n",
    "    def __init__(self,name,age):\n",
    "        self.name = name\n",
    "        self.age = age\n",
    "        \n",
    "class Employee(Person):\n",
    "    def __init__(self,name, age, salary):\n",
    "        super().__init__(name,age)\n",
    "        self.salary = salary\n",
    "        \n",
    "emp_1 = Employee('sukumar',28,200000)\n",
    "print(emp_1.__dict__)"
   ]
  },
  {
   "cell_type": "markdown",
   "id": "a12339ca",
   "metadata": {},
   "source": [
    "#### 4. How can you augment, instead of completely replacing, an inherited method?"
   ]
  },
  {
   "cell_type": "markdown",
   "id": "69a0377d",
   "metadata": {},
   "source": [
    "We can augment a method instead of completely replacing it by adding operations to it."
   ]
  },
  {
   "cell_type": "code",
   "execution_count": 7,
   "id": "192ffa0a",
   "metadata": {},
   "outputs": [
    {
     "name": "stdout",
     "output_type": "stream",
     "text": [
      "50\n"
     ]
    }
   ],
   "source": [
    "#Eg :\n",
    "\n",
    "class ABC:\n",
    "\n",
    "    def m(self):\n",
    "    \n",
    "        global a\n",
    "        \n",
    "        a = 10\n",
    "        \n",
    "class XYZ(ABC):\n",
    "\n",
    "    def m(self):\n",
    "    \n",
    "        b = 20\n",
    "        \n",
    "        c = 30\n",
    "        \n",
    "        return b+c\n",
    "    \n",
    "x = XYZ()\n",
    "\n",
    "print(x.m())"
   ]
  },
  {
   "cell_type": "markdown",
   "id": "d186d786",
   "metadata": {},
   "source": [
    "#### 5. How is the local scope of a class different from that of a function?\n",
    "\n",
    "#### Ans:\n",
    "\n",
    "i. Local variables have the scope with in the function, method. It will get destroyed by destructor once the execution completes. If we will try to access them out side of that block we will get error.\n",
    "\n",
    "ii. If we are creating a function then we can call it within the module, as python provides functionality for it all across the module."
   ]
  },
  {
   "cell_type": "code",
   "execution_count": null,
   "id": "00580743",
   "metadata": {},
   "outputs": [],
   "source": []
  }
 ],
 "metadata": {
  "kernelspec": {
   "display_name": "Python 3 (ipykernel)",
   "language": "python",
   "name": "python3"
  },
  "language_info": {
   "codemirror_mode": {
    "name": "ipython",
    "version": 3
   },
   "file_extension": ".py",
   "mimetype": "text/x-python",
   "name": "python",
   "nbconvert_exporter": "python",
   "pygments_lexer": "ipython3",
   "version": "3.10.9"
  }
 },
 "nbformat": 4,
 "nbformat_minor": 5
}
