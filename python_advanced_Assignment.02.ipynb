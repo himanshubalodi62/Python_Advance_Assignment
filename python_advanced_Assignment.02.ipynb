{
 "cells": [
  {
   "cell_type": "markdown",
   "id": "b34ebe97",
   "metadata": {},
   "source": [
    "#### Q1. What is the relationship between classes and modules?\n",
    "\n",
    "#### Ans:\n",
    "\n",
    "i. Class is the collection of methods, constructor and variables, and to define a class we use class keyword.\n",
    "\n",
    "ii. Module is a collection of classes, functions, and attributes, which is like a package.\n",
    "\n",
    "iii. We can modify the attributes of the class by using inheritance. But we can simply use the codes written in a module by importing it."
   ]
  },
  {
   "cell_type": "code",
   "execution_count": null,
   "id": "7bb58edd",
   "metadata": {},
   "outputs": [],
   "source": []
  }
 ],
 "metadata": {
  "kernelspec": {
   "display_name": "Python 3 (ipykernel)",
   "language": "python",
   "name": "python3"
  },
  "language_info": {
   "codemirror_mode": {
    "name": "ipython",
    "version": 3
   },
   "file_extension": ".py",
   "mimetype": "text/x-python",
   "name": "python",
   "nbconvert_exporter": "python",
   "pygments_lexer": "ipython3",
   "version": "3.10.9"
  }
 },
 "nbformat": 4,
 "nbformat_minor": 5
}
