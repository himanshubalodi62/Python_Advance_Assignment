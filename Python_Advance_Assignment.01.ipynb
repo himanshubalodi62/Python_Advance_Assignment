{
 "cells": [
  {
   "cell_type": "markdown",
   "id": "40a4411b",
   "metadata": {},
   "source": [
    "#### 1. What is the purpose of Python's OOP?\n",
    "\n",
    "\n",
    "**Ans:** Object-oriented programming is a programming paradigm that provides a means of structuring programs so that properties \n",
    "\n",
    "and behaviors are bundled into individual objects\n",
    "\n",
    "\n",
    "1. In Python, object-oriented Programming (OOPs) uses objects and classes in programming.\n",
    "\n",
    "\n",
    "2. It aims to implement real-world entities like inheritance, polymorphisms, encapsulation, etc. in the programming.\n",
    "\n",
    "\n",
    "3. The main concept of OOPs is to bind the data and the functions that work on that together as a single unit so that no other part of the code can access this data.\n",
    "\n",
    "\n",
    "4. It comes up with the following advantages:\n",
    "\n",
    "\n",
    "5. It helps to divide our over all program into different small segments and thus making it solving easy with the use of objects\n",
    "\n",
    "\n",
    "6. Helps in easy maintenance and modification of existing program\n",
    "   Multiple instances of an object can be made."
   ]
  },
  {
   "cell_type": "markdown",
   "id": "3583e43a",
   "metadata": {},
   "source": [
    "####  Q2. Where does an inheritance search look for an attribute?\n",
    "\n",
    "\n",
    "**Ans:** Python searches for an attribute in an upward tree of attributes. it first searches for the attribute in its instance \n",
    "\n",
    "\n",
    "and then looks in the class it is generated from, to all super classes listed in its class header"
   ]
  },
  {
   "cell_type": "markdown",
   "id": "c49f755b",
   "metadata": {},
   "source": [
    "#### Q3. How do you distinguish between a class object and an instance object?\n",
    "\n",
    "\n",
    "**Ans:** The differences between a class object and an instance object are:\n",
    "\n",
    "\n",
    "1. Class is a template for creating objects whereas object is an instance of class\n",
    "\n",
    "\n",
    "2. Seperate memory is allocated for each object whenever an object is created. but for a class this doesnot happens.\n",
    "\n",
    "\n",
    "3. A Class is created once. Many objects are created using a class.\n",
    "\n",
    "\n",
    "\n",
    "4. As Classes have no allocated memory. they can't be manipulated. but objects can be manipulated."
   ]
  },
  {
   "cell_type": "markdown",
   "id": "a2dcffa7",
   "metadata": {},
   "source": [
    "#### Q4. What makes the first argument in a class’s method function special?\n",
    "\n",
    "#### Ans:\n",
    "\n",
    "i. The first argument is a class method should be object itself. Self is the variable which indicates current class object.\n",
    "\n",
    "ii. It is not a keyword, only a naming convention."
   ]
  },
  {
   "cell_type": "markdown",
   "id": "389b72b9",
   "metadata": {},
   "source": [
    "#### Q5. What is the purpose of the init method?\n",
    "\n",
    "#### Ans:\n",
    "\n",
    "i. init is the constructor. In python name of the constructor is always init.\n",
    "\n",
    "ii. It is a special type of method which gets executed when an object is created. The main purpose of constructor is to initialize the instance variables. It takes the first argument as self. And self indicates to current class object.\n",
    "\n",
    "iii. In python constructor is optional, if we are not creating any constructor then default constructor will be given by PVM."
   ]
  },
  {
   "cell_type": "code",
   "execution_count": 1,
   "id": "da6b9897",
   "metadata": {},
   "outputs": [
    {
     "name": "stdout",
     "output_type": "stream",
     "text": [
      "{'B': 10}\n"
     ]
    }
   ],
   "source": [
    "# eg .....\n",
    "\n",
    "class A:\n",
    "    \n",
    "    def __init__(self):\n",
    "    \n",
    "        self.B = 10\n",
    "        \n",
    "a = A()\n",
    "\n",
    "print(a.__dict__) #displays the properties of the class"
   ]
  },
  {
   "cell_type": "code",
   "execution_count": 2,
   "id": "5f031ec8",
   "metadata": {},
   "outputs": [
    {
     "name": "stdout",
     "output_type": "stream",
     "text": [
      "118\n",
      "150000\n"
     ]
    }
   ],
   "source": [
    "class Employee:\n",
    "\n",
    "    def __init__(self, eno, esal):\n",
    "        \n",
    "        self.eno = eno\n",
    "        \n",
    "        self.esal = esal\n",
    "        \n",
    "e = Employee(118, 150000)\n",
    "\n",
    "print(e.eno)\n",
    "\n",
    "print(e.esal)"
   ]
  },
  {
   "cell_type": "markdown",
   "id": "c11d21fc",
   "metadata": {},
   "source": [
    "#### Q6. What is the process for creating a class instance?\n",
    "\n",
    "#### Ans :\n",
    "\n",
    "i. In python to create an object we have only one process.\n",
    "\n",
    "ii. First we have to create a class by giving the keyword and class name. Then we need to create and object by giving paranthesis after the name of the class. To access it we need to assign it to a variable and which is the referance of th object.\n"
   ]
  },
  {
   "cell_type": "code",
   "execution_count": 4,
   "id": "c76db15b",
   "metadata": {},
   "outputs": [
    {
     "name": "stdout",
     "output_type": "stream",
     "text": [
      "H\n"
     ]
    }
   ],
   "source": [
    "#Eg :\n",
    "\n",
    "class A:\n",
    "\n",
    "    def function(self, ch):\n",
    "    \n",
    "        return ch\n",
    "        \n",
    "a = A()\n",
    "\n",
    "print(a.function('H'))\n"
   ]
  },
  {
   "cell_type": "markdown",
   "id": "d7e0087d",
   "metadata": {},
   "source": [
    "#### Q7. What is the process for creating a class?\n",
    "\n",
    "#### Ans :\n",
    "\n",
    "In python to create a class we need to write class name followed by class keyword and the we need to provide colon. As per OOP \n",
    "\n",
    "\n",
    "\n",
    "concept the class name should start with capital letter and then followed by small letter."
   ]
  },
  {
   "cell_type": "code",
   "execution_count": 5,
   "id": "18e810fc",
   "metadata": {},
   "outputs": [],
   "source": [
    "#Eg:\n",
    "\n",
    "class A:\n",
    "    def function(self, ch):\n",
    "        return ch"
   ]
  },
  {
   "cell_type": "markdown",
   "id": "071ada5e",
   "metadata": {},
   "source": [
    "#### Q8. How would you define the superclasses of a class?\n",
    "\n",
    "#### Ans:\n",
    "\n",
    "i. To define a super class of a class we need to write the super class name in parantheses after child class name while creating the child class. By this process the child class will extend all the atributes of parent class.\n",
    "\n",
    "ii. To access the attributes of parent class from child class, you need to create an object of child class."
   ]
  },
  {
   "cell_type": "code",
   "execution_count": null,
   "id": "3394c9ad",
   "metadata": {},
   "outputs": [],
   "source": [
    "# eg .........\n",
    "\n",
    "class Parent:\n",
    "    def p(self):\n",
    "        return 'Parent method'\n",
    "    \n",
    "class child(Parent):\n",
    "    def c(self):\n",
    "        return 'child method'\n",
    "    \n",
    "c = child()\n",
    "print(c.c())\n",
    "print(c)"
   ]
  }
 ],
 "metadata": {
  "kernelspec": {
   "display_name": "Python 3 (ipykernel)",
   "language": "python",
   "name": "python3"
  },
  "language_info": {
   "codemirror_mode": {
    "name": "ipython",
    "version": 3
   },
   "file_extension": ".py",
   "mimetype": "text/x-python",
   "name": "python",
   "nbconvert_exporter": "python",
   "pygments_lexer": "ipython3",
   "version": "3.10.9"
  }
 },
 "nbformat": 4,
 "nbformat_minor": 5
}
