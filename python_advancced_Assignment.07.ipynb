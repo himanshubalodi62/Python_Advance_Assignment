{
 "cells": [
  {
   "cell_type": "markdown",
   "id": "9a468428",
   "metadata": {},
   "source": [
    "#### Q1. What is the purpose of the try statement?\n",
    "\n",
    "\n",
    "\n",
    "**Ans:** **try statement** is used for exception handling in python. it consists of a block of risky statements which might \n",
    "\n",
    "cause an exception during runtime. if code within try block raises exception, then the exception will be reverted to the \n",
    "\n",
    "corresponding except block if multiple except blocks are present, else it willbe reverted to the default except block. In short \n",
    "\n",
    "\n",
    "try and except in union avoid programs from crashing during runtime due to exceptions."
   ]
  },
  {
   "cell_type": "code",
   "execution_count": 1,
   "id": "245268a4",
   "metadata": {},
   "outputs": [
    {
     "name": "stdout",
     "output_type": "stream",
     "text": [
      "Division by zero is Not Possible\n"
     ]
    }
   ],
   "source": [
    "try:\n",
    "    print(10/0)\n",
    "except ZeroDivisionError:\n",
    "    print(\"Division by zero is Not Possible\")"
   ]
  },
  {
   "cell_type": "markdown",
   "id": "e3ba305d",
   "metadata": {},
   "source": [
    "#### Q2. What are the two most popular try statement variations?\n",
    "\n",
    "\n",
    "**Ans:** The Popular try statement variations are:\n",
    "\n",
    "**1.try,except\n",
    "\n",
    "\n",
    "2.try,except,finally\n",
    "\n",
    "\n",
    "3.try,except,finally,else**\n",
    "\n",
    "\n",
    "The **try** block is used to check code for exceptions during runtime. ie code inside try block will execute completely when there \n",
    "\n",
    "\n",
    "is no error in the program. Whereas the code inside except block will execute whenever the program encounters some error in the \n",
    "\n",
    "\n",
    "preceeding try block.\n",
    "\n",
    "Whereas the code enters the **else** block if and only if the try clause does not raise and exception. The code in the finally \n",
    "\n",
    "\n",
    "\n",
    "block will execute irrespective of exception."
   ]
  },
  {
   "cell_type": "markdown",
   "id": "8f750b90",
   "metadata": {},
   "source": [
    "#### Q3. What is the purpose of the raise statement?\n",
    "\n",
    "\n",
    "Ans: **raise statement** is used to trigger an exception explicitly, if a certain condition is not as per requirement of \n",
    "\n",
    "\n",
    "\n",
    "programmer. raise statement helps in triggering exception as per programming logic."
   ]
  },
  {
   "cell_type": "markdown",
   "id": "c96c5ec3",
   "metadata": {},
   "source": [
    "#### Q4. What does the assert statement do, and what other statement is it like?\n",
    "\n",
    "\n",
    "Ans: There are few assertions that programmer always want to be true to avoid code failure. This type of requirement is \n",
    "\n",
    "\n",
    "fulfilled by **assert statement**. This statement takes a boolean condition output of which is True, Further Program Executes. if \n",
    "\n",
    "\n",
    "\n",
    "output of assert statement is False, it raises an Assertion Error."
   ]
  },
  {
   "cell_type": "code",
   "execution_count": 2,
   "id": "a7b55932",
   "metadata": {},
   "outputs": [
    {
     "ename": "AssertionError",
     "evalue": "this is not a valid statement",
     "output_type": "error",
     "traceback": [
      "\u001b[1;31m---------------------------------------------------------------------------\u001b[0m",
      "\u001b[1;31mAssertionError\u001b[0m                            Traceback (most recent call last)",
      "Cell \u001b[1;32mIn[2], line 1\u001b[0m\n\u001b[1;32m----> 1\u001b[0m \u001b[38;5;28;01massert\u001b[39;00m(\u001b[38;5;241m2\u001b[39m \u001b[38;5;241m==\u001b[39m \u001b[38;5;241m4\u001b[39m), \u001b[38;5;124mf\u001b[39m\u001b[38;5;124m'\u001b[39m\u001b[38;5;124mthis is not a valid statement\u001b[39m\u001b[38;5;124m'\u001b[39m\n",
      "\u001b[1;31mAssertionError\u001b[0m: this is not a valid statement"
     ]
    }
   ],
   "source": [
    "assert(2 == 4), f'this is not a valid statement'"
   ]
  },
  {
   "cell_type": "markdown",
   "id": "e1bbb889",
   "metadata": {},
   "source": [
    "#### Q5. What is the purpose of the with/as argument, and what other statement is it like?\n",
    "\n",
    "\n",
    "Ans: with/as statement simplifies use of file handling in python. When we use a with statement for file reading, there is no \n",
    "\n",
    "\n",
    "need for programmer to explicitly takecare of activities like resource deallocation and file closing by using file.close() \n",
    "\n",
    "\n",
    "method. with statement itself ensures proper acquisition and release of resources. this avoids triggering of exceptions if file \n",
    "\n",
    "\n",
    "closing is unknowingly forgotten in the code execution."
   ]
  },
  {
   "cell_type": "code",
   "execution_count": 3,
   "id": "e4c89851",
   "metadata": {},
   "outputs": [],
   "source": [
    "with open('sample_file.txt','w') as file:\n",
    "    file.write('Hello World')"
   ]
  },
  {
   "cell_type": "code",
   "execution_count": null,
   "id": "e67d02df",
   "metadata": {},
   "outputs": [],
   "source": []
  }
 ],
 "metadata": {
  "kernelspec": {
   "display_name": "Python 3 (ipykernel)",
   "language": "python",
   "name": "python3"
  },
  "language_info": {
   "codemirror_mode": {
    "name": "ipython",
    "version": 3
   },
   "file_extension": ".py",
   "mimetype": "text/x-python",
   "name": "python",
   "nbconvert_exporter": "python",
   "pygments_lexer": "ipython3",
   "version": "3.10.9"
  }
 },
 "nbformat": 4,
 "nbformat_minor": 5
}
