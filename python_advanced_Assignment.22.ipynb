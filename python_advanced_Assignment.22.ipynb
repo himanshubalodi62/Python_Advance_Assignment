{
 "cells": [
  {
   "cell_type": "markdown",
   "id": "6867c5d7",
   "metadata": {},
   "source": [
    "#### Q1. What are the benefits of the built-in array package, if any?\n",
    "\n",
    "\n",
    "**Ans:** Arrays represent multiple data items of the same type using a single name. In arrays, the elements can be accessed \n",
    "\n",
    "randomly by using the index number. Arrays allocate memory in contiguous memory locations for all its elements. Hence there is \n",
    "\n",
    "\n",
    "no chance of extra memory being allocated in case of arrays. This avoids memory overflow or shortage of memory in arrays."
   ]
  },
  {
   "cell_type": "markdown",
   "id": "3722dc7e",
   "metadata": {},
   "source": [
    "#### Q2. What are some of the array package's limitations ?\n",
    "\n",
    "\n",
    "**Ans:** The number of elements to be stored in an array should be known in advance. An array is a static structure (which \n",
    "\n",
    "means the array is of fixed size). Once declared the size of the array cannot be modified. The memory which is allocated to it \n",
    "\n",
    "cannot be increased or decreased.\n",
    "\n",
    "\n",
    "Insertion and deletion are quite difficult in an array as the elements are stored in consecutive memory locations and the \n",
    "\n",
    "shifting operation is costly.\n",
    "\n",
    "\n",
    "Allocating more memory than the requirement leads to wastage of memory space and less allocation of memory also leads to a \n",
    "\n",
    "problem"
   ]
  },
  {
   "cell_type": "markdown",
   "id": "0e081515",
   "metadata": {},
   "source": [
    "#### Q3. Describe the main differences between the array and numpy packages ?\n",
    "\n",
    "\n",
    "**Ans:** The array package doesn't provide any help with numerical calculation with the items insdie it in number form while \n",
    "\n",
    "NumPy give you a wide variety of numerical operations.\n",
    "\n",
    "\n",
    "An array is a single dimensional entity which hold the numerical data, while numpy can have more than 1 dimension.\n",
    "\n",
    "\n",
    "In case of array, item can be accessed by its index position and it is easy task while in numpy item is accessed by its column \n",
    "\n",
    "\n",
    "\n",
    "and row index, which makes it slightly time taking. Same goes with appending operation.\n",
    "\n",
    "In case of array we do not form a tabular structure, while in numpy it forms a tabular structure"
   ]
  },
  {
   "cell_type": "markdown",
   "id": "2118979e",
   "metadata": {},
   "source": [
    "#### Q4. Explain the distinctions between the empty, ones, and zeros functions ?\n",
    "\n",
    "\n",
    "Ans: The distinctions between the empty, ones, and zero functions are as follows :\n",
    "\n",
    "**Empty function:** An empty function is a function that does not contain any statement within its body. If you try to write a \n",
    "\n",
    "function definition without any statement in python ,it will return an error. To avoid this, we use pass statement. pass is a \n",
    "\n",
    "special statement in Python that does nothing. It only works as a dummy statement.\n",
    "\n",
    "\n",
    "**Ones:** This function returns a new array of given shape and data type, where the element’s value is 1.\n",
    "\n",
    "**Zeros:** This function returns a new array of given shape and data type, where the element’s value is 0."
   ]
  },
  {
   "cell_type": "markdown",
   "id": "53bf9f20",
   "metadata": {},
   "source": [
    "#### Q5. In the fromfunction function, which is used to construct new arrays, what is the role of the callable argument ?\n",
    "\n",
    "\n",
    "**Ans:** Its function is to execute the function over each coordinate and the resulting array. The function is called with N \n",
    "\n",
    "\n",
    "\n",
    "parameters, where N is the rank of shape. Each parameter represents the coordinates of the array varying along a specific axis."
   ]
  },
  {
   "cell_type": "markdown",
   "id": "59c39a6c",
   "metadata": {},
   "source": [
    "#### Q6. What happens when a numpy array is combined with a single-value operand (a scalar, such as an int or a floating-point value) through addition, as in the expression A + n ?\n",
    "\n",
    "\n",
    "**Ans:** If any scaler value such as integer is added to the numpy array then all the elements inside the array will add that value in it."
   ]
  },
  {
   "cell_type": "markdown",
   "id": "f27b13dd",
   "metadata": {},
   "source": [
    "#### Q7. Can array-to-scalar operations use combined operation-assign operators (such as += or *=)? What is the outcome ?\n",
    "\n",
    "\n",
    "**Ans:** It will carry out provided operation on all elements of array."
   ]
  },
  {
   "cell_type": "markdown",
   "id": "16b3e066",
   "metadata": {},
   "source": [
    "#### Q8. Does a numpy array contain fixed-length strings? What happens if you allocate a longer string to one of these arrays ?\n",
    "\n",
    "\n",
    "**Ans:** : Yes, it is possible that we can include a string of fixed length in numpy array. The dtype of any numpy array \n",
    "\n",
    "containing string values is the maximum length of any string present in the array.Once set, it will only be able to store new \n",
    "\n",
    "string having length not more than the maximum length at the time of the creation. If we try to reassign some another string \n",
    "\n",
    "value having length greater than the maximum length of the existing elements, it simply discards all the values beyond the \n",
    "\n",
    "\n",
    "maximum length accept upto those values which are under the limit."
   ]
  },
  {
   "cell_type": "markdown",
   "id": "b68bb759",
   "metadata": {},
   "source": [
    "#### Q9. What happens when you combine two numpy arrays using an operation like addition (+) or multiplication (*)? What are the conditions for combining two numpy arrays ?\n",
    "Ans: It will simply add or multiply element to element at same position."
   ]
  },
  {
   "cell_type": "markdown",
   "id": "2e7fd156",
   "metadata": {},
   "source": [
    "#### Q10. What is the best way to use a Boolean array to mask another array ?\n",
    "\n",
    "\n",
    "**Ans:** The best way to use a Boolean array to mask another array is by Using masked_where of numpy package\n",
    "\n",
    "#### Q11. What are three different ways to get the standard deviation of a wide collection of data using both standard Python and its packages? Sort the three of them by how quickly they execute ?\n",
    "\n",
    "\n",
    "**Ans:** np.std and math package can be used individually.\n",
    "\n",
    "#### 12. What is the dimensionality of a Boolean mask-generated array ?\n",
    "\n",
    "\n",
    "**Ans:** It will have same dimensionality as input array."
   ]
  },
  {
   "cell_type": "code",
   "execution_count": null,
   "id": "d15e15e1",
   "metadata": {},
   "outputs": [],
   "source": []
  },
  {
   "cell_type": "code",
   "execution_count": null,
   "id": "87ffacdc",
   "metadata": {},
   "outputs": [],
   "source": []
  },
  {
   "cell_type": "code",
   "execution_count": null,
   "id": "a0b072f1",
   "metadata": {},
   "outputs": [],
   "source": []
  },
  {
   "cell_type": "code",
   "execution_count": null,
   "id": "994731dd",
   "metadata": {},
   "outputs": [],
   "source": []
  },
  {
   "cell_type": "code",
   "execution_count": null,
   "id": "2aa6a903",
   "metadata": {},
   "outputs": [],
   "source": []
  },
  {
   "cell_type": "code",
   "execution_count": null,
   "id": "b9c6e392",
   "metadata": {},
   "outputs": [],
   "source": []
  }
 ],
 "metadata": {
  "kernelspec": {
   "display_name": "Python 3 (ipykernel)",
   "language": "python",
   "name": "python3"
  },
  "language_info": {
   "codemirror_mode": {
    "name": "ipython",
    "version": 3
   },
   "file_extension": ".py",
   "mimetype": "text/x-python",
   "name": "python",
   "nbconvert_exporter": "python",
   "pygments_lexer": "ipython3",
   "version": "3.10.9"
  }
 },
 "nbformat": 4,
 "nbformat_minor": 5
}
