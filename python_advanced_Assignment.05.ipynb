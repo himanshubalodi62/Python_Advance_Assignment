{
 "cells": [
  {
   "cell_type": "markdown",
   "id": "94705dda",
   "metadata": {},
   "source": [
    "#### Q1. What is the meaning of multiple inheritance?\n",
    "\n",
    "\n",
    "#### Ans:\n",
    "\n",
    "Inheritence is nothing but reusing the code of Parent class by the child class. Similary when a child class inherits its \n",
    "\n",
    "properties from multiple Parent classes this scenario is called Multiple Inheritence"
   ]
  },
  {
   "cell_type": "code",
   "execution_count": 3,
   "id": "c7554529",
   "metadata": {},
   "outputs": [
    {
     "name": "stdout",
     "output_type": "stream",
     "text": [
      "the transition is complete\n",
      "This is show the entire amount\n",
      "this is show your account details\n",
      "This is show you your deposite acccount\n",
      "the transition to succesfully icici to HDFC\n"
     ]
    }
   ],
   "source": [
    "class bank:\n",
    "    def transition(self):\n",
    "        print(\"This is show the entire amount\")\n",
    "        \n",
    "    def Account_oppening(self):\n",
    "        print(\"this is show your account details\")\n",
    "        \n",
    "    def deposite(self):\n",
    "        print(\"This is show you your deposite acccount\")\n",
    "        \n",
    "class HDFC(bank):\n",
    "    def Hdfc_to_icicibank(self):\n",
    "        print(\"the transition to succesfully icici to HDFC\")\n",
    "        \n",
    "class icici(HDFC):\n",
    "    print(\"the transition is complete\")\n",
    "    \n",
    "i = icici()\n",
    "i.transition()\n",
    "i.Account_oppening()\n",
    "i.deposite()\n",
    "i.Hdfc_to_icicibank()"
   ]
  },
  {
   "cell_type": "markdown",
   "id": "6766c870",
   "metadata": {},
   "source": [
    "#### Q2. What is the concept of delegation?\n",
    "\n",
    "### Ans:\n",
    "\n",
    "Delegation provides a proxy object for any class thay you want on top of the main class. its like a wrapper to your class so that you can access limited resources of the main class.\n",
    "\n",
    "It wraps the object of main class into a smaller object with limited access\n",
    "\n",
    "Simply Delegation means that you can include an instance of another class as an instance variable, and forward messages to the instance."
   ]
  },
  {
   "cell_type": "code",
   "execution_count": 5,
   "id": "8dd63a3c",
   "metadata": {},
   "outputs": [
    {
     "name": "stdout",
     "output_type": "stream",
     "text": [
      "Hey iam back\n",
      "Hey iam back\n",
      "Hey iam back\n",
      "Iam the main class\n"
     ]
    }
   ],
   "source": [
    "class Myclass:\n",
    "    def sayHi(self):\n",
    "        print('Hey iam back')\n",
    "    def whoAmI(self):\n",
    "        print('Iam the main class')\n",
    "        \n",
    "class NewClass:\n",
    "    def __init__(self,obj):\n",
    "        self.main = obj\n",
    "    def welcome(self):\n",
    "        self.main.sayHi()\n",
    "\n",
    "m = Myclass()        \n",
    "n = NewClass(m)\n",
    "m.sayHi()\n",
    "n.main.sayHi()\n",
    "n.welcome()\n",
    "n.main.whoAmI()"
   ]
  },
  {
   "cell_type": "markdown",
   "id": "e9965084",
   "metadata": {},
   "source": [
    "#### Q3. What is the concept of composition?\n",
    "\n",
    "#### Ans:\n",
    "\n",
    "In the concept of Composition, a class refers to one or more other classes by using instances of those classes as a instance variable. irrespective of inheritence in this approach all the parent class members are not inherited into child class, but only required methods from a class are used by using class instances."
   ]
  },
  {
   "cell_type": "code",
   "execution_count": 6,
   "id": "247d744c",
   "metadata": {},
   "outputs": [
    {
     "name": "stdout",
     "output_type": "stream",
     "text": [
      "Total Salary : 9600\n"
     ]
    }
   ],
   "source": [
    "class Salary:\n",
    "    def __init__(self,pay):\n",
    "        self.pay = pay\n",
    "    def get_total(self):\n",
    "        return self.pay*12\n",
    "    \n",
    "class Employee:\n",
    "    def __init__(self,pay,bonus):\n",
    "        self.pay = pay\n",
    "        self.bonus = bonus\n",
    "        self.obj_salary = Salary(self.pay)\n",
    "    def annual_salary(self):\n",
    "        return f'Total Salary : {str(self.obj_salary.get_total())}'\n",
    "\n",
    "obj_emp = Employee(800,500)\n",
    "print(obj_emp.annual_salary())"
   ]
  },
  {
   "cell_type": "markdown",
   "id": "483ab930",
   "metadata": {},
   "source": [
    "#### Q4. What are bound methods and how do we use them?\n",
    "\n",
    "### Ans:\n",
    "\n",
    "If a function is an attribute of class and it is accessed via the instances, they are called bound methods. A bound method is one that has self as its first argument. Since these are dependent on the instance of classes, these are also known as instance methods."
   ]
  },
  {
   "cell_type": "code",
   "execution_count": 7,
   "id": "499a51e3",
   "metadata": {},
   "outputs": [
    {
     "name": "stdout",
     "output_type": "stream",
     "text": [
      "Called method_one\n",
      "Called method_two\n",
      "Called method_two\n",
      "Called method_three\n"
     ]
    }
   ],
   "source": [
    "class Test:\n",
    "    def method_one(self): # bound method\n",
    "        print(\"Called method_one\")\n",
    "    @classmethod\n",
    "    def method_two(cls): # unbound method\n",
    "        print(\"Called method_two\")\n",
    "    @staticmethod\n",
    "    def method_three(): # static method\n",
    "        print(\"Called method_three\")\n",
    "\n",
    "test = Test()\n",
    "test.method_one() # accessing through instance object\n",
    "test.method_two() # accessing through instance object\n",
    "Test.method_two() # accessing directly through class\n",
    "Test.method_three() # accessing directly through class"
   ]
  },
  {
   "cell_type": "markdown",
   "id": "7a646b7c",
   "metadata": {},
   "source": [
    "#### Q5. What is the purpose of pseudoprivate attributes?\n",
    "\n",
    "#### Ans:\n",
    "\n",
    "Pseudoprivate attributes are also useful in larger frameworks or tools, both to avoid introducing new method names that might \n",
    "\n",
    "accidentally hide definitions elsewhere in the class tree and to reduce the chance of internal methods being replaced by names \n",
    "\n",
    "defined lower in the tree. If a method is intended for use only within a class that may be mixed into other classes, the double \n",
    "\n",
    "underscore prefix ensures that the method won't interfere with other names in the tree, especially in multiple-inheritance \n",
    "\n",
    "scenarios Pseudoprivate names also prevent subclasses from accidentally redefining the internal method's names,"
   ]
  },
  {
   "cell_type": "markdown",
   "id": "ceddcb50",
   "metadata": {},
   "source": [
    "class Super:\n",
    "    def method(self): # A real application method\n",
    "        pass\n",
    "class Tool:\n",
    "    def _method(self): # becomes _Tool_method\n",
    "        pass\n",
    "    def other(self): # uses internal method\n",
    "        self._method()\n",
    "class Subl(Tool,Super):\n",
    "    def actions(self):\n",
    "        self.method()\n",
    "class Sub2(Tool):\n",
    "    def __init__(self):\n",
    "        self.method = 99"
   ]
  },
  {
   "cell_type": "code",
   "execution_count": null,
   "id": "4c72395a",
   "metadata": {},
   "outputs": [],
   "source": []
  }
 ],
 "metadata": {
  "kernelspec": {
   "display_name": "Python 3 (ipykernel)",
   "language": "python",
   "name": "python3"
  },
  "language_info": {
   "codemirror_mode": {
    "name": "ipython",
    "version": 3
   },
   "file_extension": ".py",
   "mimetype": "text/x-python",
   "name": "python",
   "nbconvert_exporter": "python",
   "pygments_lexer": "ipython3",
   "version": "3.10.9"
  }
 },
 "nbformat": 4,
 "nbformat_minor": 5
}
